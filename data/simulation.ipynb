{
 "cells": [
  {
   "cell_type": "code",
   "execution_count": 1,
   "id": "3b4ad5c0",
   "metadata": {},
   "outputs": [],
   "source": [
    "import numpy as np\n",
    "import pandas as pd\n",
    "\n",
    "# Set random seed for reproducibility\n",
    "np.random.seed(42)\n",
    "\n",
    "n_samples = 10000\n",
    "\n",
    "# Simulate numerical variabels\n",
    "X1 = np.random.normal(0, 1, n_samples)\n",
    "X2 = np.random.normal(0, 1, n_samples)\n",
    "X3 = np.random.normal(0, 1, n_samples)\n",
    "X4 = np.random.normal(0, 1, n_samples)\n",
    "\n",
    "# Simulate categorical variables\n",
    "X5 = pd.Categorical(np.random.choice(['low', 'medium', 'high'], size=n_samples, p=[0.5, 0.2, 0.3]), categories=['low', 'medium', 'high'], ordered=True)\n",
    "\n",
    "# Simulate the target variable y (imbalanced: 10% positive, 90% negative)\n",
    "y = np.random.choice([0, 1], size=n_samples, p=[0.9, 0.1])\n",
    "\n",
    "# Add signal to X1 for positive class\n",
    "X1[y == 1] += 2\n",
    "\n",
    "# Simulate X6: categorical, with 'low' more frequent when y=1\n",
    "X6_values = []\n",
    "for label in y:\n",
    "    if label == 1:\n",
    "        X6_values.append(np.random.choice(['low', 'medium', 'high'], p=[0.6, 0.2, 0.2]))\n",
    "    else:\n",
    "        X6_values.append(np.random.choice(['low', 'medium', 'high'], p=[0.3, 0.3, 0.4]))\n",
    "X6 = pd.Categorical(X6_values, categories=['low', 'medium', 'high'], ordered=True)\n",
    "\n",
    "# Create DataFrame\n",
    "df = pd.DataFrame({\n",
    "    'X1': X1,\n",
    "    'X2': X2,\n",
    "    'X3': X3,\n",
    "    'X4': X4,\n",
    "    'X5': X5,\n",
    "    'X6': X6,\n",
    "    'y': y\n",
    "})"
   ]
  },
  {
   "cell_type": "code",
   "execution_count": 2,
   "id": "9a7f3c67",
   "metadata": {},
   "outputs": [],
   "source": [
    "df.to_csv('example_data.csv', index=False)"
   ]
  }
 ],
 "metadata": {
  "kernelspec": {
   "display_name": "Python 3",
   "language": "python",
   "name": "python3"
  },
  "language_info": {
   "codemirror_mode": {
    "name": "ipython",
    "version": 3
   },
   "file_extension": ".py",
   "mimetype": "text/x-python",
   "name": "python",
   "nbconvert_exporter": "python",
   "pygments_lexer": "ipython3",
   "version": "3.11.9"
  }
 },
 "nbformat": 4,
 "nbformat_minor": 5
}
