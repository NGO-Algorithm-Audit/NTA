{
 "cells": [
  {
   "cell_type": "code",
   "execution_count": 1,
   "id": "977c4ec2",
   "metadata": {},
   "outputs": [],
   "source": [
    "import numpy as np\n",
    "import pandas as pd\n",
    "import matplotlib.pyplot as plt\n",
    "import matplotlib.patheffects as pe\n",
    "from matplotlib.ticker import MaxNLocator"
   ]
  },
  {
   "cell_type": "code",
   "execution_count": 2,
   "id": "1d48ef47",
   "metadata": {},
   "outputs": [
    {
     "data": {
      "text/html": [
       "<div>\n",
       "<style scoped>\n",
       "    .dataframe tbody tr th:only-of-type {\n",
       "        vertical-align: middle;\n",
       "    }\n",
       "\n",
       "    .dataframe tbody tr th {\n",
       "        vertical-align: top;\n",
       "    }\n",
       "\n",
       "    .dataframe thead th {\n",
       "        text-align: right;\n",
       "    }\n",
       "</style>\n",
       "<table border=\"1\" class=\"dataframe\">\n",
       "  <thead>\n",
       "    <tr style=\"text-align: right;\">\n",
       "      <th></th>\n",
       "      <th>X1</th>\n",
       "      <th>X2</th>\n",
       "      <th>X3</th>\n",
       "      <th>X4</th>\n",
       "      <th>X5</th>\n",
       "      <th>X6</th>\n",
       "      <th>y</th>\n",
       "    </tr>\n",
       "  </thead>\n",
       "  <tbody>\n",
       "    <tr>\n",
       "      <th>0</th>\n",
       "      <td>0.496714</td>\n",
       "      <td>-0.678495</td>\n",
       "      <td>0.348286</td>\n",
       "      <td>-1.980572</td>\n",
       "      <td>high</td>\n",
       "      <td>medium</td>\n",
       "      <td>0</td>\n",
       "    </tr>\n",
       "    <tr>\n",
       "      <th>1</th>\n",
       "      <td>-0.138264</td>\n",
       "      <td>-0.305499</td>\n",
       "      <td>0.283324</td>\n",
       "      <td>-1.054986</td>\n",
       "      <td>low</td>\n",
       "      <td>low</td>\n",
       "      <td>0</td>\n",
       "    </tr>\n",
       "    <tr>\n",
       "      <th>2</th>\n",
       "      <td>0.647689</td>\n",
       "      <td>-0.597381</td>\n",
       "      <td>-0.936520</td>\n",
       "      <td>-0.587028</td>\n",
       "      <td>high</td>\n",
       "      <td>high</td>\n",
       "      <td>0</td>\n",
       "    </tr>\n",
       "    <tr>\n",
       "      <th>3</th>\n",
       "      <td>3.523030</td>\n",
       "      <td>0.110418</td>\n",
       "      <td>0.579584</td>\n",
       "      <td>0.149669</td>\n",
       "      <td>low</td>\n",
       "      <td>low</td>\n",
       "      <td>1</td>\n",
       "    </tr>\n",
       "    <tr>\n",
       "      <th>4</th>\n",
       "      <td>-0.234153</td>\n",
       "      <td>1.197179</td>\n",
       "      <td>-1.490083</td>\n",
       "      <td>1.024162</td>\n",
       "      <td>low</td>\n",
       "      <td>high</td>\n",
       "      <td>0</td>\n",
       "    </tr>\n",
       "  </tbody>\n",
       "</table>\n",
       "</div>"
      ],
      "text/plain": [
       "         X1        X2        X3        X4    X5      X6  y\n",
       "0  0.496714 -0.678495  0.348286 -1.980572  high  medium  0\n",
       "1 -0.138264 -0.305499  0.283324 -1.054986   low     low  0\n",
       "2  0.647689 -0.597381 -0.936520 -0.587028  high    high  0\n",
       "3  3.523030  0.110418  0.579584  0.149669   low     low  1\n",
       "4 -0.234153  1.197179 -1.490083  1.024162   low    high  0"
      ]
     },
     "execution_count": 2,
     "metadata": {},
     "output_type": "execute_result"
    }
   ],
   "source": [
    "# load data \n",
    "df = pd.read_csv('../Data/example_data.csv', delimiter=',')\n",
    "df.head()"
   ]
  },
  {
   "cell_type": "markdown",
   "id": "3d2ef81a",
   "metadata": {},
   "source": [
    "### 5.4.1 Geschiktheid en effectiviteit potentiële profileringskenmerken "
   ]
  },
  {
   "cell_type": "markdown",
   "id": "88b83eeb",
   "metadata": {},
   "source": [
    "#### Kwantitatieve toetsingsmethoden\n",
    "\n",
    "##### **Gebaseerd op inclusie**"
   ]
  },
  {
   "cell_type": "markdown",
   "id": "1ed564cc",
   "metadata": {},
   "source": [
    "**Voorbeeld 1:**\n",
    "\n",
    "Toetsen van vermoeden dat kenmerk $X_1$ verband houdt met doelvariabele $y$:\n",
    "- $H_0: p(Y=1|X_1>0) = p(Y=1|X_1≤0)$ (kans op positieve uitkomst doelvariabele voor X1>0 is gelijk aan de kans op positieve uitkomst doelvariabele voor X1≤0)\n",
    "- $H_1: p(Y=1|X_1>0) > p(Y=1|X_1≤0)$ (kans op positieve uitkomst doelvariabele voor X1>0 is groter dan de kans op positieve uitkomst doelvariabele voor X1≤0)"
   ]
  },
  {
   "cell_type": "code",
   "execution_count": 7,
   "id": "f314615f",
   "metadata": {},
   "outputs": [
    {
     "name": "stdout",
     "output_type": "stream",
     "text": [
      "Z-statistiek: 28.1060\n",
      "p-waarde: 0.0000\n",
      "Nulhypothese verworpen: kans op positieve uitkomst doelvariabele (Y=1) is significant hoger voor X1>0.\n"
     ]
    }
   ],
   "source": [
    "from statsmodels.stats.proportion import proportions_ztest\n",
    "\n",
    "# Create boolean masks for X1 > 0 and X1 <= 0\n",
    "mask_X1_gt_0 = df['X1'] > 0\n",
    "mask_X1_le_0 = df['X1'] <= 0\n",
    "\n",
    "# Count successes (y=1) and total for each group\n",
    "successes = [df.loc[mask_X1_gt_0, 'y'].sum(), df.loc[mask_X1_le_0, 'y'].sum()]\n",
    "nobs = [mask_X1_gt_0.sum(), mask_X1_le_0.sum()]\n",
    "\n",
    "# Perform one-sided z-test for proportions (alternative: larger)\n",
    "stat, pval = proportions_ztest(successes, nobs, alternative='larger')\n",
    "\n",
    "print(f\"Z-statistiek: {stat:.4f}\")\n",
    "print(f\"p-waarde: {pval:.4f}\")\n",
    "if pval < 0.05:\n",
    "    print(\"Nulhypothese verworpen: kans op positieve uitkomst doelvariabele (Y=1) is significant hoger voor X1>0.\")\n",
    "else:\n",
    "    print(\"Nulhypothese niet verworpen: geen statistisch significant verschil gevonden.\")"
   ]
  },
  {
   "cell_type": "markdown",
   "id": "8b532b66",
   "metadata": {},
   "source": [
    "##### **Profiel met j≤k kenmerken**\n",
    "\n",
    "**Voorbeeld 2:**\n",
    "\n",
    "Toetsen van vermoeden dat profiel $X_1>0, X_2>0, X_5=\\text{laag}$ verband houdt met doelvariabele $y$:\n",
    "- $H_0: p(Y=1|X_1>0, X_2>0, X_5=\\text{laag}) = p(Y=1|X_1≤0, X_2≤0, X_5=\\text{laag})$ (kans op positieve uitkomst doelvariabele voor $X_1>0, X_2>0, X_5=\\text{laag}$ is gelijk aan de kans op positieve uitkomst doelvariabele voor $X_1≤0, X_2≤0, X_5\\neq\\text{laag}$)\n",
    "- $H_1: p(Y=1|X_1>0, X_2>0, X_5=\\text{laag}) > p(Y=1|X_1≤0, X_2≤0, X_5=\\text{laag})$  (kans op positieve uitkomst doelvariabele voor $X_1>0, X_2>0, X_5=\\text{laag}$ is groter dan de kans op positieve uitkomst doelvariabele voor $X_1≤0, X_2≤0, X_5\\neq\\text{laag}$)\n",
    "\n",
    "ANOVA"
   ]
  },
  {
   "cell_type": "code",
   "execution_count": 9,
   "id": "44c5371d",
   "metadata": {},
   "outputs": [
    {
     "name": "stdout",
     "output_type": "stream",
     "text": [
      "              sum_sq      df            F    PR(>F)\n",
      "C(X5)       0.101587     2.0     0.786485  0.455471\n",
      "X1        219.000431     1.0  3390.992997  0.000000\n",
      "X2          0.001801     1.0     0.027888  0.867377\n",
      "Residual  645.506879  9995.0          NaN       NaN\n",
      "\n",
      "Predictive value (p < 0.05 indicates significant predictive value):\n",
      "C(X5)       False\n",
      "X1           True\n",
      "X2          False\n",
      "Residual    False\n",
      "Name: PR(>F), dtype: bool\n"
     ]
    }
   ],
   "source": [
    "import statsmodels.api as sm\n",
    "import statsmodels.formula.api as smf\n",
    "\n",
    "# Convert categorical variable X5 to categorical dtype if not already\n",
    "df['X5'] = df['X5'].astype('category')\n",
    "\n",
    "# Fit ANOVA model (ordinary least squares with categorical X5)\n",
    "model = smf.ols('y ~ X1 + X2 + C(X5)', data=df).fit()\n",
    "anova_table = sm.stats.anova_lm(model, typ=2)\n",
    "print(anova_table)\n",
    "\n",
    "# Check p-values to assess predictive value\n",
    "print(\"\\nPredictive value (p < 0.05 indicates significant predictive value):\")\n",
    "print(anova_table['PR(>F)'] < 0.05)"
   ]
  },
  {
   "cell_type": "markdown",
   "id": "9f05fec7",
   "metadata": {},
   "source": [
    "##### **Gebaseerd op exclusie**\n",
    "\n",
    "**Voorbeeld 3:**\n",
    "\n",
    "Toetsen van vermoeden dat profiel alle variabelen verband houdt met doelvariabele $y$:\n",
    "- $H_0$: ...\n",
    "- $H_1$: ..."
   ]
  },
  {
   "cell_type": "markdown",
   "id": "9f56960b",
   "metadata": {},
   "source": []
  }
 ],
 "metadata": {
  "kernelspec": {
   "display_name": "Python 3",
   "language": "python",
   "name": "python3"
  },
  "language_info": {
   "codemirror_mode": {
    "name": "ipython",
    "version": 3
   },
   "file_extension": ".py",
   "mimetype": "text/x-python",
   "name": "python",
   "nbconvert_exporter": "python",
   "pygments_lexer": "ipython3",
   "version": "3.11.9"
  }
 },
 "nbformat": 4,
 "nbformat_minor": 5
}
